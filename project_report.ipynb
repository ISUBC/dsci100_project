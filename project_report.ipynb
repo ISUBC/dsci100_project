{
 "cells": [
  {
   "cell_type": "markdown",
   "id": "8f026481-a68a-42a0-9ec2-87979464288d",
   "metadata": {},
   "source": [
    "# Predicting Newsletter Subscription in Minecraft Players\n",
    "\n",
    "## Introduction:\n",
    "\n",
    "### Background\n",
    "The studying of player engagement and behavior in games such as Minecraft is a growing in the field of data science. In this project, I will be wokring with a research group at the University of British Columbia led by Dr. Frank Wood, which is investigating the behaviours and activities of players in a custom Minecraft game server. They collected each player’s activity over time, which allowed them to study their behavior, preferences, and play patterns.\n",
    "\n",
    "### Question (I Wrote)\n",
    "The aim of this project is to answer the following question:\n",
    "\"Can characteristics of a player (e.g., behavior, play frequency, time-of-day usage) predict whether they will subscribe to the game-related newsletter?\"\n",
    "This question is quite intersting as it can help identify the types of players who most likley to show more engaggemnet and interests in the projects. This will also help with gettings player who have more long-term interest, which will help prioritize players for future studies.\n",
    "\n",
    "### Data Description\n",
    "To answer this question, this project will use two datasets:\n",
    "\n",
    "* `players.csv`: Contains demographic and behavioral features of individual players, such as age, device, and whether they are subscribed to a newsletter.\n",
    "* `sessions.csv`: Contains a record of each game session for each player, whcih includes timestamps, session length, and actions taken.\n",
    "In this project, these datasets will be wrangled and used to construct meaningful visuals and relationships related to player behavior and characteristics to answer the aim/qu. Then, we will use exploratory data analysis and machine learning models to identify which features are most predictive of newsletter subscription.\n",
    "\n",
    "\n",
    "\n",
    "## Methods and Results:\n",
    "\n",
    "### Reading and Loading the Data\n",
    "First let's load the libary `tidyverse` to get a package of functions. Then, lets read both of the datasets using the function `read_csv` and assign them to an object."
   ]
  },
  {
   "cell_type": "code",
   "execution_count": null,
   "id": "066fc697-b529-4feb-83df-771aa47441cb",
   "metadata": {},
   "outputs": [],
   "source": []
  }
 ],
 "metadata": {
  "kernelspec": {
   "display_name": "R",
   "language": "R",
   "name": "ir"
  },
  "language_info": {
   "codemirror_mode": "r",
   "file_extension": ".r",
   "mimetype": "text/x-r-source",
   "name": "R",
   "pygments_lexer": "r",
   "version": "4.3.3"
  }
 },
 "nbformat": 4,
 "nbformat_minor": 5
}
